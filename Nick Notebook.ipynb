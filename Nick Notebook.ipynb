{
 "cells": [
  {
   "cell_type": "code",
   "execution_count": 15,
   "id": "f5489cfd",
   "metadata": {},
   "outputs": [],
   "source": [
    "import pandas as pd\n",
    "import sqlite3\n",
    "import gzip\n",
    "import shutil\n",
    "import seaborn as sns\n",
    "import matplotlib.pyplot as plt"
   ]
  },
  {
   "cell_type": "markdown",
   "id": "c8023d1b",
   "metadata": {},
   "source": [
    "with gzip.open('zippedData/tn.movie_budgets.csv.gz', 'rb') as f_in:\n",
    "        with open('tn.movie_budgets.csv', 'wb') as f_out:\n",
    "            shutil.copyfileobj(f_in, f_out)"
   ]
  },
  {
   "cell_type": "markdown",
   "id": "74a430f2",
   "metadata": {},
   "source": [
    "import zipfile\n",
    "with zipfile.ZipFile('zippedData/im.db.zip', 'r') as zip_ref:\n",
    "    zip_ref.extractall('unzippedData/')"
   ]
  },
  {
   "cell_type": "code",
   "execution_count": 16,
   "id": "51503fd8",
   "metadata": {},
   "outputs": [],
   "source": [
    "movie_gross = pd.read_csv('unzippedData/bom.movie_gross.csv')"
   ]
  },
  {
   "cell_type": "code",
   "execution_count": null,
   "id": "d05cecaf",
   "metadata": {},
   "outputs": [],
   "source": []
  },
  {
   "cell_type": "code",
   "execution_count": 17,
   "id": "044e395f",
   "metadata": {},
   "outputs": [],
   "source": [
    "movie_budgets = pd.read_csv('unzippedData/tn.movie_budgets.csv')"
   ]
  },
  {
   "cell_type": "code",
   "execution_count": 18,
   "id": "1e45ae26",
   "metadata": {},
   "outputs": [],
   "source": [
    "tmdb = pd.read_csv('unzippedData/tmdb.movies.csv')"
   ]
  },
  {
   "cell_type": "code",
   "execution_count": 19,
   "id": "e1d9467a",
   "metadata": {},
   "outputs": [],
   "source": [
    "rt_score = pd.read_csv('unzippedData/rt.reviews.tsv', sep = '\\t', encoding = ('latin-1') )"
   ]
  },
  {
   "cell_type": "code",
   "execution_count": 20,
   "id": "147c70c1",
   "metadata": {},
   "outputs": [],
   "source": [
    "rt_info = pd.read_csv('unzippedData/rt.movie_info.tsv',sep = '\\t')"
   ]
  },
  {
   "cell_type": "code",
   "execution_count": 21,
   "id": "6b969d64",
   "metadata": {
    "scrolled": true
   },
   "outputs": [
    {
     "data": {
      "text/html": [
       "<div>\n",
       "<style scoped>\n",
       "    .dataframe tbody tr th:only-of-type {\n",
       "        vertical-align: middle;\n",
       "    }\n",
       "\n",
       "    .dataframe tbody tr th {\n",
       "        vertical-align: top;\n",
       "    }\n",
       "\n",
       "    .dataframe thead th {\n",
       "        text-align: right;\n",
       "    }\n",
       "</style>\n",
       "<table border=\"1\" class=\"dataframe\">\n",
       "  <thead>\n",
       "    <tr style=\"text-align: right;\">\n",
       "      <th></th>\n",
       "      <th>id</th>\n",
       "      <th>release_date</th>\n",
       "      <th>movie</th>\n",
       "      <th>production_budget</th>\n",
       "      <th>domestic_gross</th>\n",
       "      <th>worldwide_gross</th>\n",
       "    </tr>\n",
       "  </thead>\n",
       "  <tbody>\n",
       "    <tr>\n",
       "      <th>0</th>\n",
       "      <td>1</td>\n",
       "      <td>Dec 18, 2009</td>\n",
       "      <td>Avatar</td>\n",
       "      <td>$425,000,000</td>\n",
       "      <td>$760,507,625</td>\n",
       "      <td>$2,776,345,279</td>\n",
       "    </tr>\n",
       "    <tr>\n",
       "      <th>1</th>\n",
       "      <td>2</td>\n",
       "      <td>May 20, 2011</td>\n",
       "      <td>Pirates of the Caribbean: On Stranger Tides</td>\n",
       "      <td>$410,600,000</td>\n",
       "      <td>$241,063,875</td>\n",
       "      <td>$1,045,663,875</td>\n",
       "    </tr>\n",
       "    <tr>\n",
       "      <th>2</th>\n",
       "      <td>3</td>\n",
       "      <td>Jun 7, 2019</td>\n",
       "      <td>Dark Phoenix</td>\n",
       "      <td>$350,000,000</td>\n",
       "      <td>$42,762,350</td>\n",
       "      <td>$149,762,350</td>\n",
       "    </tr>\n",
       "    <tr>\n",
       "      <th>3</th>\n",
       "      <td>4</td>\n",
       "      <td>May 1, 2015</td>\n",
       "      <td>Avengers: Age of Ultron</td>\n",
       "      <td>$330,600,000</td>\n",
       "      <td>$459,005,868</td>\n",
       "      <td>$1,403,013,963</td>\n",
       "    </tr>\n",
       "    <tr>\n",
       "      <th>4</th>\n",
       "      <td>5</td>\n",
       "      <td>Dec 15, 2017</td>\n",
       "      <td>Star Wars Ep. VIII: The Last Jedi</td>\n",
       "      <td>$317,000,000</td>\n",
       "      <td>$620,181,382</td>\n",
       "      <td>$1,316,721,747</td>\n",
       "    </tr>\n",
       "  </tbody>\n",
       "</table>\n",
       "</div>"
      ],
      "text/plain": [
       "   id  release_date                                        movie  \\\n",
       "0   1  Dec 18, 2009                                       Avatar   \n",
       "1   2  May 20, 2011  Pirates of the Caribbean: On Stranger Tides   \n",
       "2   3   Jun 7, 2019                                 Dark Phoenix   \n",
       "3   4   May 1, 2015                      Avengers: Age of Ultron   \n",
       "4   5  Dec 15, 2017            Star Wars Ep. VIII: The Last Jedi   \n",
       "\n",
       "  production_budget domestic_gross worldwide_gross  \n",
       "0      $425,000,000   $760,507,625  $2,776,345,279  \n",
       "1      $410,600,000   $241,063,875  $1,045,663,875  \n",
       "2      $350,000,000    $42,762,350    $149,762,350  \n",
       "3      $330,600,000   $459,005,868  $1,403,013,963  \n",
       "4      $317,000,000   $620,181,382  $1,316,721,747  "
      ]
     },
     "execution_count": 21,
     "metadata": {},
     "output_type": "execute_result"
    }
   ],
   "source": [
    "movie_budgets.head()"
   ]
  },
  {
   "cell_type": "code",
   "execution_count": 22,
   "id": "a0bd57e9",
   "metadata": {},
   "outputs": [
    {
     "data": {
      "text/html": [
       "<div>\n",
       "<style scoped>\n",
       "    .dataframe tbody tr th:only-of-type {\n",
       "        vertical-align: middle;\n",
       "    }\n",
       "\n",
       "    .dataframe tbody tr th {\n",
       "        vertical-align: top;\n",
       "    }\n",
       "\n",
       "    .dataframe thead th {\n",
       "        text-align: right;\n",
       "    }\n",
       "</style>\n",
       "<table border=\"1\" class=\"dataframe\">\n",
       "  <thead>\n",
       "    <tr style=\"text-align: right;\">\n",
       "      <th></th>\n",
       "      <th>title</th>\n",
       "      <th>studio</th>\n",
       "      <th>domestic_gross</th>\n",
       "      <th>foreign_gross</th>\n",
       "      <th>year</th>\n",
       "    </tr>\n",
       "  </thead>\n",
       "  <tbody>\n",
       "    <tr>\n",
       "      <th>0</th>\n",
       "      <td>Toy Story 3</td>\n",
       "      <td>BV</td>\n",
       "      <td>415000000.0</td>\n",
       "      <td>652000000</td>\n",
       "      <td>2010</td>\n",
       "    </tr>\n",
       "    <tr>\n",
       "      <th>1</th>\n",
       "      <td>Alice in Wonderland (2010)</td>\n",
       "      <td>BV</td>\n",
       "      <td>334200000.0</td>\n",
       "      <td>691300000</td>\n",
       "      <td>2010</td>\n",
       "    </tr>\n",
       "    <tr>\n",
       "      <th>2</th>\n",
       "      <td>Harry Potter and the Deathly Hallows Part 1</td>\n",
       "      <td>WB</td>\n",
       "      <td>296000000.0</td>\n",
       "      <td>664300000</td>\n",
       "      <td>2010</td>\n",
       "    </tr>\n",
       "    <tr>\n",
       "      <th>3</th>\n",
       "      <td>Inception</td>\n",
       "      <td>WB</td>\n",
       "      <td>292600000.0</td>\n",
       "      <td>535700000</td>\n",
       "      <td>2010</td>\n",
       "    </tr>\n",
       "    <tr>\n",
       "      <th>4</th>\n",
       "      <td>Shrek Forever After</td>\n",
       "      <td>P/DW</td>\n",
       "      <td>238700000.0</td>\n",
       "      <td>513900000</td>\n",
       "      <td>2010</td>\n",
       "    </tr>\n",
       "  </tbody>\n",
       "</table>\n",
       "</div>"
      ],
      "text/plain": [
       "                                         title studio  domestic_gross  \\\n",
       "0                                  Toy Story 3     BV     415000000.0   \n",
       "1                   Alice in Wonderland (2010)     BV     334200000.0   \n",
       "2  Harry Potter and the Deathly Hallows Part 1     WB     296000000.0   \n",
       "3                                    Inception     WB     292600000.0   \n",
       "4                          Shrek Forever After   P/DW     238700000.0   \n",
       "\n",
       "  foreign_gross  year  \n",
       "0     652000000  2010  \n",
       "1     691300000  2010  \n",
       "2     664300000  2010  \n",
       "3     535700000  2010  \n",
       "4     513900000  2010  "
      ]
     },
     "execution_count": 22,
     "metadata": {},
     "output_type": "execute_result"
    }
   ],
   "source": [
    "movie_gross.head()"
   ]
  },
  {
   "cell_type": "code",
   "execution_count": 23,
   "id": "378ba26a",
   "metadata": {},
   "outputs": [
    {
     "data": {
      "text/plain": [
       "R        521\n",
       "NR       503\n",
       "PG       240\n",
       "PG-13    235\n",
       "G         57\n",
       "NC17       1\n",
       "Name: rating, dtype: int64"
      ]
     },
     "execution_count": 23,
     "metadata": {},
     "output_type": "execute_result"
    }
   ],
   "source": [
    "rt_info['rating'].value_counts()"
   ]
  },
  {
   "cell_type": "code",
   "execution_count": 24,
   "id": "e2a1814b",
   "metadata": {},
   "outputs": [
    {
     "name": "stdout",
     "output_type": "stream",
     "text": [
      "<class 'pandas.core.frame.DataFrame'>\n",
      "RangeIndex: 1560 entries, 0 to 1559\n",
      "Data columns (total 12 columns):\n",
      " #   Column        Non-Null Count  Dtype \n",
      "---  ------        --------------  ----- \n",
      " 0   id            1560 non-null   int64 \n",
      " 1   synopsis      1498 non-null   object\n",
      " 2   rating        1557 non-null   object\n",
      " 3   genre         1552 non-null   object\n",
      " 4   director      1361 non-null   object\n",
      " 5   writer        1111 non-null   object\n",
      " 6   theater_date  1201 non-null   object\n",
      " 7   dvd_date      1201 non-null   object\n",
      " 8   currency      340 non-null    object\n",
      " 9   box_office    340 non-null    object\n",
      " 10  runtime       1530 non-null   object\n",
      " 11  studio        494 non-null    object\n",
      "dtypes: int64(1), object(11)\n",
      "memory usage: 146.4+ KB\n"
     ]
    }
   ],
   "source": [
    "rt_info.info()"
   ]
  },
  {
   "cell_type": "code",
   "execution_count": 25,
   "id": "080377f4",
   "metadata": {},
   "outputs": [],
   "source": [
    "conn = sqlite3.connect('unzippedData/im.db')"
   ]
  },
  {
   "cell_type": "code",
   "execution_count": 26,
   "id": "e90f5e3e",
   "metadata": {},
   "outputs": [],
   "source": [
    "movie_basics = pd.read_sql(\"\"\"\n",
    "SELECT *\n",
    "\n",
    "FROM \n",
    "    movie_ratings AS mr\n",
    "    INNER JOIN movie_basics AS mb\n",
    "    USING (movie_id)\n",
    "WHERE\n",
    "    numvotes > 500\n",
    "\n",
    "\"\"\",conn)"
   ]
  },
  {
   "cell_type": "code",
   "execution_count": 27,
   "id": "25d9c8cd",
   "metadata": {},
   "outputs": [
    {
     "data": {
      "text/plain": [
       "genres\n",
       "Action                        100\n",
       "Action,Adventure               27\n",
       "Action,Adventure,Animation     83\n",
       "Action,Adventure,Biography      9\n",
       "Action,Adventure,Comedy       112\n",
       "                             ... \n",
       "Thriller                      185\n",
       "Thriller,War                    1\n",
       "Thriller,Western                2\n",
       "War                             3\n",
       "Western                         8\n",
       "Length: 567, dtype: int64"
      ]
     },
     "execution_count": 27,
     "metadata": {},
     "output_type": "execute_result"
    }
   ],
   "source": [
    "movie_basics.groupby('genres').size()"
   ]
  },
  {
   "cell_type": "code",
   "execution_count": 28,
   "id": "fea7837c",
   "metadata": {},
   "outputs": [
    {
     "name": "stdout",
     "output_type": "stream",
     "text": [
      "<class 'pandas.core.frame.DataFrame'>\n",
      "RangeIndex: 13880 entries, 0 to 13879\n",
      "Data columns (total 8 columns):\n",
      " #   Column           Non-Null Count  Dtype  \n",
      "---  ------           --------------  -----  \n",
      " 0   movie_id         13880 non-null  object \n",
      " 1   averagerating    13880 non-null  float64\n",
      " 2   numvotes         13880 non-null  int64  \n",
      " 3   primary_title    13880 non-null  object \n",
      " 4   original_title   13880 non-null  object \n",
      " 5   start_year       13880 non-null  int64  \n",
      " 6   runtime_minutes  13827 non-null  float64\n",
      " 7   genres           13877 non-null  object \n",
      "dtypes: float64(2), int64(2), object(4)\n",
      "memory usage: 867.6+ KB\n"
     ]
    }
   ],
   "source": [
    "movie_basics.info()"
   ]
  },
  {
   "cell_type": "code",
   "execution_count": 45,
   "id": "031619ad",
   "metadata": {},
   "outputs": [],
   "source": [
    "movie_budgets['production_budget'] = movie_budgets['production_budget'].str.strip('$').str.replace(\",\",\"\").astype(int)\n",
    "\n",
    "\n"
   ]
  },
  {
   "cell_type": "code",
   "execution_count": 43,
   "id": "8075de0e",
   "metadata": {},
   "outputs": [
    {
     "ename": "AttributeError",
     "evalue": "Can only use .str accessor with string values!",
     "output_type": "error",
     "traceback": [
      "\u001b[1;31m---------------------------------------------------------------------------\u001b[0m",
      "\u001b[1;31mAttributeError\u001b[0m                            Traceback (most recent call last)",
      "Cell \u001b[1;32mIn[43], line 1\u001b[0m\n\u001b[1;32m----> 1\u001b[0m movie_budgets[\u001b[38;5;124m'\u001b[39m\u001b[38;5;124mworldwide_gross\u001b[39m\u001b[38;5;124m'\u001b[39m] \u001b[38;5;241m=\u001b[39m movie_budgets[\u001b[38;5;124m'\u001b[39m\u001b[38;5;124mworldwide_gross\u001b[39m\u001b[38;5;124m'\u001b[39m]\u001b[38;5;241m.\u001b[39mstr\u001b[38;5;241m.\u001b[39mstrip(\u001b[38;5;124m'\u001b[39m\u001b[38;5;124m$\u001b[39m\u001b[38;5;124m'\u001b[39m)\u001b[38;5;241m.\u001b[39mstr\u001b[38;5;241m.\u001b[39mreplace(\u001b[38;5;124m\"\u001b[39m\u001b[38;5;124m,\u001b[39m\u001b[38;5;124m\"\u001b[39m, \u001b[38;5;124m\"\u001b[39m\u001b[38;5;124m\"\u001b[39m)\u001b[38;5;241m.\u001b[39mastype(\u001b[38;5;28mfloat\u001b[39m)\n",
      "File \u001b[1;32m~\\anaconda3\\Lib\\site-packages\\pandas\\core\\generic.py:5902\u001b[0m, in \u001b[0;36mNDFrame.__getattr__\u001b[1;34m(self, name)\u001b[0m\n\u001b[0;32m   5895\u001b[0m \u001b[38;5;28;01mif\u001b[39;00m (\n\u001b[0;32m   5896\u001b[0m     name \u001b[38;5;129;01mnot\u001b[39;00m \u001b[38;5;129;01min\u001b[39;00m \u001b[38;5;28mself\u001b[39m\u001b[38;5;241m.\u001b[39m_internal_names_set\n\u001b[0;32m   5897\u001b[0m     \u001b[38;5;129;01mand\u001b[39;00m name \u001b[38;5;129;01mnot\u001b[39;00m \u001b[38;5;129;01min\u001b[39;00m \u001b[38;5;28mself\u001b[39m\u001b[38;5;241m.\u001b[39m_metadata\n\u001b[0;32m   5898\u001b[0m     \u001b[38;5;129;01mand\u001b[39;00m name \u001b[38;5;129;01mnot\u001b[39;00m \u001b[38;5;129;01min\u001b[39;00m \u001b[38;5;28mself\u001b[39m\u001b[38;5;241m.\u001b[39m_accessors\n\u001b[0;32m   5899\u001b[0m     \u001b[38;5;129;01mand\u001b[39;00m \u001b[38;5;28mself\u001b[39m\u001b[38;5;241m.\u001b[39m_info_axis\u001b[38;5;241m.\u001b[39m_can_hold_identifiers_and_holds_name(name)\n\u001b[0;32m   5900\u001b[0m ):\n\u001b[0;32m   5901\u001b[0m     \u001b[38;5;28;01mreturn\u001b[39;00m \u001b[38;5;28mself\u001b[39m[name]\n\u001b[1;32m-> 5902\u001b[0m \u001b[38;5;28;01mreturn\u001b[39;00m \u001b[38;5;28mobject\u001b[39m\u001b[38;5;241m.\u001b[39m\u001b[38;5;21m__getattribute__\u001b[39m(\u001b[38;5;28mself\u001b[39m, name)\n",
      "File \u001b[1;32m~\\anaconda3\\Lib\\site-packages\\pandas\\core\\accessor.py:182\u001b[0m, in \u001b[0;36mCachedAccessor.__get__\u001b[1;34m(self, obj, cls)\u001b[0m\n\u001b[0;32m    179\u001b[0m \u001b[38;5;28;01mif\u001b[39;00m obj \u001b[38;5;129;01mis\u001b[39;00m \u001b[38;5;28;01mNone\u001b[39;00m:\n\u001b[0;32m    180\u001b[0m     \u001b[38;5;66;03m# we're accessing the attribute of the class, i.e., Dataset.geo\u001b[39;00m\n\u001b[0;32m    181\u001b[0m     \u001b[38;5;28;01mreturn\u001b[39;00m \u001b[38;5;28mself\u001b[39m\u001b[38;5;241m.\u001b[39m_accessor\n\u001b[1;32m--> 182\u001b[0m accessor_obj \u001b[38;5;241m=\u001b[39m \u001b[38;5;28mself\u001b[39m\u001b[38;5;241m.\u001b[39m_accessor(obj)\n\u001b[0;32m    183\u001b[0m \u001b[38;5;66;03m# Replace the property with the accessor object. Inspired by:\u001b[39;00m\n\u001b[0;32m    184\u001b[0m \u001b[38;5;66;03m# https://www.pydanny.com/cached-property.html\u001b[39;00m\n\u001b[0;32m    185\u001b[0m \u001b[38;5;66;03m# We need to use object.__setattr__ because we overwrite __setattr__ on\u001b[39;00m\n\u001b[0;32m    186\u001b[0m \u001b[38;5;66;03m# NDFrame\u001b[39;00m\n\u001b[0;32m    187\u001b[0m \u001b[38;5;28mobject\u001b[39m\u001b[38;5;241m.\u001b[39m\u001b[38;5;21m__setattr__\u001b[39m(obj, \u001b[38;5;28mself\u001b[39m\u001b[38;5;241m.\u001b[39m_name, accessor_obj)\n",
      "File \u001b[1;32m~\\anaconda3\\Lib\\site-packages\\pandas\\core\\strings\\accessor.py:181\u001b[0m, in \u001b[0;36mStringMethods.__init__\u001b[1;34m(self, data)\u001b[0m\n\u001b[0;32m    178\u001b[0m \u001b[38;5;28;01mdef\u001b[39;00m \u001b[38;5;21m__init__\u001b[39m(\u001b[38;5;28mself\u001b[39m, data) \u001b[38;5;241m-\u001b[39m\u001b[38;5;241m>\u001b[39m \u001b[38;5;28;01mNone\u001b[39;00m:\n\u001b[0;32m    179\u001b[0m     \u001b[38;5;28;01mfrom\u001b[39;00m \u001b[38;5;21;01mpandas\u001b[39;00m\u001b[38;5;21;01m.\u001b[39;00m\u001b[38;5;21;01mcore\u001b[39;00m\u001b[38;5;21;01m.\u001b[39;00m\u001b[38;5;21;01marrays\u001b[39;00m\u001b[38;5;21;01m.\u001b[39;00m\u001b[38;5;21;01mstring_\u001b[39;00m \u001b[38;5;28;01mimport\u001b[39;00m StringDtype\n\u001b[1;32m--> 181\u001b[0m     \u001b[38;5;28mself\u001b[39m\u001b[38;5;241m.\u001b[39m_inferred_dtype \u001b[38;5;241m=\u001b[39m \u001b[38;5;28mself\u001b[39m\u001b[38;5;241m.\u001b[39m_validate(data)\n\u001b[0;32m    182\u001b[0m     \u001b[38;5;28mself\u001b[39m\u001b[38;5;241m.\u001b[39m_is_categorical \u001b[38;5;241m=\u001b[39m is_categorical_dtype(data\u001b[38;5;241m.\u001b[39mdtype)\n\u001b[0;32m    183\u001b[0m     \u001b[38;5;28mself\u001b[39m\u001b[38;5;241m.\u001b[39m_is_string \u001b[38;5;241m=\u001b[39m \u001b[38;5;28misinstance\u001b[39m(data\u001b[38;5;241m.\u001b[39mdtype, StringDtype)\n",
      "File \u001b[1;32m~\\anaconda3\\Lib\\site-packages\\pandas\\core\\strings\\accessor.py:235\u001b[0m, in \u001b[0;36mStringMethods._validate\u001b[1;34m(data)\u001b[0m\n\u001b[0;32m    232\u001b[0m inferred_dtype \u001b[38;5;241m=\u001b[39m lib\u001b[38;5;241m.\u001b[39minfer_dtype(values, skipna\u001b[38;5;241m=\u001b[39m\u001b[38;5;28;01mTrue\u001b[39;00m)\n\u001b[0;32m    234\u001b[0m \u001b[38;5;28;01mif\u001b[39;00m inferred_dtype \u001b[38;5;129;01mnot\u001b[39;00m \u001b[38;5;129;01min\u001b[39;00m allowed_types:\n\u001b[1;32m--> 235\u001b[0m     \u001b[38;5;28;01mraise\u001b[39;00m \u001b[38;5;167;01mAttributeError\u001b[39;00m(\u001b[38;5;124m\"\u001b[39m\u001b[38;5;124mCan only use .str accessor with string values!\u001b[39m\u001b[38;5;124m\"\u001b[39m)\n\u001b[0;32m    236\u001b[0m \u001b[38;5;28;01mreturn\u001b[39;00m inferred_dtype\n",
      "\u001b[1;31mAttributeError\u001b[0m: Can only use .str accessor with string values!"
     ]
    }
   ],
   "source": [
    "movie_budgets['worldwide_gross'] = movie_budgets['worldwide_gross'].str.strip('$').str.replace(\",\", \"\").astype(float)\n"
   ]
  },
  {
   "cell_type": "code",
   "execution_count": 31,
   "id": "f3ff33a8",
   "metadata": {},
   "outputs": [
    {
     "name": "stdout",
     "output_type": "stream",
     "text": [
      "<class 'pandas.core.frame.DataFrame'>\n",
      "RangeIndex: 5782 entries, 0 to 5781\n",
      "Data columns (total 6 columns):\n",
      " #   Column             Non-Null Count  Dtype  \n",
      "---  ------             --------------  -----  \n",
      " 0   id                 5782 non-null   int64  \n",
      " 1   release_date       5782 non-null   object \n",
      " 2   movie              5782 non-null   object \n",
      " 3   production_budget  5782 non-null   object \n",
      " 4   domestic_gross     5782 non-null   object \n",
      " 5   worldwide_gross    5782 non-null   float64\n",
      "dtypes: float64(1), int64(1), object(4)\n",
      "memory usage: 271.2+ KB\n"
     ]
    }
   ],
   "source": [
    "movie_budgets.info()"
   ]
  },
  {
   "cell_type": "code",
   "execution_count": 32,
   "id": "9cf2e4e4",
   "metadata": {},
   "outputs": [
    {
     "data": {
      "text/html": [
       "<div>\n",
       "<style scoped>\n",
       "    .dataframe tbody tr th:only-of-type {\n",
       "        vertical-align: middle;\n",
       "    }\n",
       "\n",
       "    .dataframe tbody tr th {\n",
       "        vertical-align: top;\n",
       "    }\n",
       "\n",
       "    .dataframe thead th {\n",
       "        text-align: right;\n",
       "    }\n",
       "</style>\n",
       "<table border=\"1\" class=\"dataframe\">\n",
       "  <thead>\n",
       "    <tr style=\"text-align: right;\">\n",
       "      <th></th>\n",
       "      <th>id</th>\n",
       "      <th>release_date</th>\n",
       "      <th>movie</th>\n",
       "      <th>production_budget</th>\n",
       "      <th>domestic_gross</th>\n",
       "      <th>worldwide_gross</th>\n",
       "    </tr>\n",
       "  </thead>\n",
       "  <tbody>\n",
       "    <tr>\n",
       "      <th>0</th>\n",
       "      <td>1</td>\n",
       "      <td>Dec 18, 2009</td>\n",
       "      <td>Avatar</td>\n",
       "      <td>$425,000,000</td>\n",
       "      <td>$760,507,625</td>\n",
       "      <td>2.776345e+09</td>\n",
       "    </tr>\n",
       "    <tr>\n",
       "      <th>1</th>\n",
       "      <td>2</td>\n",
       "      <td>May 20, 2011</td>\n",
       "      <td>Pirates of the Caribbean: On Stranger Tides</td>\n",
       "      <td>$410,600,000</td>\n",
       "      <td>$241,063,875</td>\n",
       "      <td>1.045664e+09</td>\n",
       "    </tr>\n",
       "    <tr>\n",
       "      <th>2</th>\n",
       "      <td>3</td>\n",
       "      <td>Jun 7, 2019</td>\n",
       "      <td>Dark Phoenix</td>\n",
       "      <td>$350,000,000</td>\n",
       "      <td>$42,762,350</td>\n",
       "      <td>1.497624e+08</td>\n",
       "    </tr>\n",
       "    <tr>\n",
       "      <th>3</th>\n",
       "      <td>4</td>\n",
       "      <td>May 1, 2015</td>\n",
       "      <td>Avengers: Age of Ultron</td>\n",
       "      <td>$330,600,000</td>\n",
       "      <td>$459,005,868</td>\n",
       "      <td>1.403014e+09</td>\n",
       "    </tr>\n",
       "    <tr>\n",
       "      <th>4</th>\n",
       "      <td>5</td>\n",
       "      <td>Dec 15, 2017</td>\n",
       "      <td>Star Wars Ep. VIII: The Last Jedi</td>\n",
       "      <td>$317,000,000</td>\n",
       "      <td>$620,181,382</td>\n",
       "      <td>1.316722e+09</td>\n",
       "    </tr>\n",
       "  </tbody>\n",
       "</table>\n",
       "</div>"
      ],
      "text/plain": [
       "   id  release_date                                        movie  \\\n",
       "0   1  Dec 18, 2009                                       Avatar   \n",
       "1   2  May 20, 2011  Pirates of the Caribbean: On Stranger Tides   \n",
       "2   3   Jun 7, 2019                                 Dark Phoenix   \n",
       "3   4   May 1, 2015                      Avengers: Age of Ultron   \n",
       "4   5  Dec 15, 2017            Star Wars Ep. VIII: The Last Jedi   \n",
       "\n",
       "  production_budget domestic_gross  worldwide_gross  \n",
       "0      $425,000,000   $760,507,625     2.776345e+09  \n",
       "1      $410,600,000   $241,063,875     1.045664e+09  \n",
       "2      $350,000,000    $42,762,350     1.497624e+08  \n",
       "3      $330,600,000   $459,005,868     1.403014e+09  \n",
       "4      $317,000,000   $620,181,382     1.316722e+09  "
      ]
     },
     "execution_count": 32,
     "metadata": {},
     "output_type": "execute_result"
    }
   ],
   "source": [
    "movie_budgets.head()"
   ]
  },
  {
   "cell_type": "code",
   "execution_count": null,
   "id": "e15d7bed",
   "metadata": {},
   "outputs": [],
   "source": []
  },
  {
   "cell_type": "code",
   "execution_count": null,
   "id": "9420b41e",
   "metadata": {},
   "outputs": [],
   "source": [
    "#ratings\n",
    "    #-Gen\n",
    "#money"
   ]
  },
  {
   "cell_type": "code",
   "execution_count": 48,
   "id": "acd1c8fb",
   "metadata": {},
   "outputs": [],
   "source": [
    "mega_df = movie_basics.merge(movie_budgets, left_on = 'primary_title', right_on = 'movie', how = 'inner')"
   ]
  },
  {
   "cell_type": "code",
   "execution_count": 35,
   "id": "82c215f8",
   "metadata": {},
   "outputs": [
    {
     "data": {
      "text/html": [
       "<div>\n",
       "<style scoped>\n",
       "    .dataframe tbody tr th:only-of-type {\n",
       "        vertical-align: middle;\n",
       "    }\n",
       "\n",
       "    .dataframe tbody tr th {\n",
       "        vertical-align: top;\n",
       "    }\n",
       "\n",
       "    .dataframe thead th {\n",
       "        text-align: right;\n",
       "    }\n",
       "</style>\n",
       "<table border=\"1\" class=\"dataframe\">\n",
       "  <thead>\n",
       "    <tr style=\"text-align: right;\">\n",
       "      <th></th>\n",
       "      <th>movie_id</th>\n",
       "      <th>averagerating</th>\n",
       "      <th>numvotes</th>\n",
       "      <th>primary_title</th>\n",
       "      <th>original_title</th>\n",
       "      <th>start_year</th>\n",
       "      <th>runtime_minutes</th>\n",
       "      <th>genres</th>\n",
       "      <th>id</th>\n",
       "      <th>release_date</th>\n",
       "      <th>movie</th>\n",
       "      <th>production_budget</th>\n",
       "      <th>domestic_gross</th>\n",
       "      <th>worldwide_gross</th>\n",
       "    </tr>\n",
       "  </thead>\n",
       "  <tbody>\n",
       "    <tr>\n",
       "      <th>0</th>\n",
       "      <td>tt1043726</td>\n",
       "      <td>4.2</td>\n",
       "      <td>50352</td>\n",
       "      <td>The Legend of Hercules</td>\n",
       "      <td>The Legend of Hercules</td>\n",
       "      <td>2014</td>\n",
       "      <td>99.0</td>\n",
       "      <td>Action,Adventure,Fantasy</td>\n",
       "      <td>42</td>\n",
       "      <td>Jan 10, 2014</td>\n",
       "      <td>The Legend of Hercules</td>\n",
       "      <td>$70,000,000</td>\n",
       "      <td>$18,848,538</td>\n",
       "      <td>58953319.0</td>\n",
       "    </tr>\n",
       "    <tr>\n",
       "      <th>1</th>\n",
       "      <td>tt1094666</td>\n",
       "      <td>7.0</td>\n",
       "      <td>1613</td>\n",
       "      <td>The Hammer</td>\n",
       "      <td>Hamill</td>\n",
       "      <td>2010</td>\n",
       "      <td>108.0</td>\n",
       "      <td>Biography,Drama,Sport</td>\n",
       "      <td>50</td>\n",
       "      <td>Mar 21, 2008</td>\n",
       "      <td>The Hammer</td>\n",
       "      <td>$850,000</td>\n",
       "      <td>$442,638</td>\n",
       "      <td>442638.0</td>\n",
       "    </tr>\n",
       "    <tr>\n",
       "      <th>2</th>\n",
       "      <td>tt1171222</td>\n",
       "      <td>5.1</td>\n",
       "      <td>8296</td>\n",
       "      <td>Baggage Claim</td>\n",
       "      <td>Baggage Claim</td>\n",
       "      <td>2013</td>\n",
       "      <td>96.0</td>\n",
       "      <td>Comedy</td>\n",
       "      <td>38</td>\n",
       "      <td>Sep 27, 2013</td>\n",
       "      <td>Baggage Claim</td>\n",
       "      <td>$8,500,000</td>\n",
       "      <td>$21,569,509</td>\n",
       "      <td>22885836.0</td>\n",
       "    </tr>\n",
       "    <tr>\n",
       "      <th>3</th>\n",
       "      <td>tt1210166</td>\n",
       "      <td>7.6</td>\n",
       "      <td>326657</td>\n",
       "      <td>Moneyball</td>\n",
       "      <td>Moneyball</td>\n",
       "      <td>2011</td>\n",
       "      <td>133.0</td>\n",
       "      <td>Biography,Drama,Sport</td>\n",
       "      <td>15</td>\n",
       "      <td>Sep 23, 2011</td>\n",
       "      <td>Moneyball</td>\n",
       "      <td>$50,000,000</td>\n",
       "      <td>$75,605,492</td>\n",
       "      <td>111300835.0</td>\n",
       "    </tr>\n",
       "    <tr>\n",
       "      <th>4</th>\n",
       "      <td>tt1212419</td>\n",
       "      <td>6.5</td>\n",
       "      <td>87288</td>\n",
       "      <td>Hereafter</td>\n",
       "      <td>Hereafter</td>\n",
       "      <td>2010</td>\n",
       "      <td>129.0</td>\n",
       "      <td>Drama,Fantasy,Romance</td>\n",
       "      <td>61</td>\n",
       "      <td>Oct 15, 2010</td>\n",
       "      <td>Hereafter</td>\n",
       "      <td>$50,000,000</td>\n",
       "      <td>$32,746,941</td>\n",
       "      <td>108660270.0</td>\n",
       "    </tr>\n",
       "  </tbody>\n",
       "</table>\n",
       "</div>"
      ],
      "text/plain": [
       "    movie_id  averagerating  numvotes           primary_title  \\\n",
       "0  tt1043726            4.2     50352  The Legend of Hercules   \n",
       "1  tt1094666            7.0      1613              The Hammer   \n",
       "2  tt1171222            5.1      8296           Baggage Claim   \n",
       "3  tt1210166            7.6    326657               Moneyball   \n",
       "4  tt1212419            6.5     87288               Hereafter   \n",
       "\n",
       "           original_title  start_year  runtime_minutes  \\\n",
       "0  The Legend of Hercules        2014             99.0   \n",
       "1                  Hamill        2010            108.0   \n",
       "2           Baggage Claim        2013             96.0   \n",
       "3               Moneyball        2011            133.0   \n",
       "4               Hereafter        2010            129.0   \n",
       "\n",
       "                     genres  id  release_date                   movie  \\\n",
       "0  Action,Adventure,Fantasy  42  Jan 10, 2014  The Legend of Hercules   \n",
       "1     Biography,Drama,Sport  50  Mar 21, 2008              The Hammer   \n",
       "2                    Comedy  38  Sep 27, 2013           Baggage Claim   \n",
       "3     Biography,Drama,Sport  15  Sep 23, 2011               Moneyball   \n",
       "4     Drama,Fantasy,Romance  61  Oct 15, 2010               Hereafter   \n",
       "\n",
       "  production_budget domestic_gross  worldwide_gross  \n",
       "0       $70,000,000    $18,848,538       58953319.0  \n",
       "1          $850,000       $442,638         442638.0  \n",
       "2        $8,500,000    $21,569,509       22885836.0  \n",
       "3       $50,000,000    $75,605,492      111300835.0  \n",
       "4       $50,000,000    $32,746,941      108660270.0  "
      ]
     },
     "execution_count": 35,
     "metadata": {},
     "output_type": "execute_result"
    }
   ],
   "source": [
    "mega_df.head()"
   ]
  },
  {
   "cell_type": "markdown",
   "id": "6a3e8b65",
   "metadata": {},
   "source": [
    "mega_df['Action'] = mega_df['genres'].str.contains('Action')"
   ]
  },
  {
   "cell_type": "markdown",
   "id": "a8de1eb8",
   "metadata": {},
   "source": [
    "mega_df['Adventure'] = mega_df['genres'].str.contains('Adventure')\n",
    "mega_df['Comedy'] = mega_df['genres'].str.contains('Comedy')\n",
    "mega_df['Family'] = mega_df['genres'].str.contains('Family')\n",
    "mega_df['Crime'] = mega_df['genres'].str.contains('Crime')\n",
    "mega_df['Thriller'] = mega_df['genres'].str.contains('Thriller')\n",
    "mega_df['Sport'] = mega_df['genres'].str.contains('Sport')\n",
    "mega_df['Animation'] = mega_df['genres'].str.contains('Animation')\n",
    "mega_df['Horror'] = mega_df['genres'].str.contains('Horror')\n",
    "mega_df['Fantasy'] = mega_df['genres'].str.contains('Fantasy')\n",
    "mega_df['Romance'] = mega_df['genres'].str.contains('Romance')\n",
    "mega_df['Sci-Fi'] = mega_df['genres'].str.contains('Sci-Fi')\n",
    "mega_df['Sport'] = mega_df['genres'].str.contains('Sport')\n",
    "mega_df['Documentary'] = mega_df['genres'].str.contains('Documentary')\n",
    "mega_df['History'] = mega_df['genres'].str.contains('History')\n",
    "mega_df['Music'] = mega_df['genres'].str.contains('Music')\n",
    "mega_df['Mystery'] = mega_df['genres'].str.contains('Mystery')\n",
    "mega_df['Drama'] = mega_df['genres'].str.contains('Drama')\n",
    "mega_df['War'] = mega_df['genres'].str.contains('War')\n",
    "mega_df['Biography'] = mega_df['genres'].str.contains('Biography')\n",
    "mega_df['Musical'] = mega_df['genres'].str.contains('Musical')\n",
    "\n",
    "\n",
    "                                                   \n",
    "\n",
    "                                                   \n",
    "\n"
   ]
  },
  {
   "cell_type": "code",
   "execution_count": 51,
   "id": "b86cffef",
   "metadata": {},
   "outputs": [],
   "source": [
    "genre_list = ['Adventure', 'Comedy', 'Family', 'Crime', 'Thriller', 'Sport', 'Animation',\n",
    "              'Horror', 'Fantasy', 'Romance', 'Sci-Fi', 'Documentary', 'History', 'Music',\n",
    "              'Mystery', 'Drama', 'War', 'Biography', 'Musical','Action']\n",
    "\n",
    "for genre in genre_list:\n",
    "    mega_df[genre] = mega_df['genres'].str.contains(genre)"
   ]
  },
  {
   "cell_type": "markdown",
   "id": "2bccf763",
   "metadata": {},
   "source": [
    "mega_df['Profit'] = mega_df['worldwide_gross'] - mega_df['production_budget']\n",
    "\n",
    "# Split the genres column into a list of genres\n",
    "mega_df['genres'] = mega_df['genres'].str.split(',')\n"
   ]
  },
  {
   "cell_type": "code",
   "execution_count": null,
   "id": "31043f91",
   "metadata": {},
   "outputs": [],
   "source": [
    "mega_df.info()"
   ]
  },
  {
   "cell_type": "code",
   "execution_count": 50,
   "id": "4837bd6f",
   "metadata": {},
   "outputs": [],
   "source": [
    "mega_df['Profit'] = mega_df['worldwide_gross'] - mega_df['production_budget']"
   ]
  },
  {
   "cell_type": "code",
   "execution_count": 53,
   "id": "eebc262a",
   "metadata": {},
   "outputs": [],
   "source": [
    "mega_df.to_csv('unzippedData/megadf4.csv')"
   ]
  },
  {
   "cell_type": "code",
   "execution_count": null,
   "id": "bc928589",
   "metadata": {},
   "outputs": [],
   "source": [
    "mega_df.head()"
   ]
  },
  {
   "cell_type": "code",
   "execution_count": 52,
   "id": "e3fb812f",
   "metadata": {},
   "outputs": [
    {
     "name": "stdout",
     "output_type": "stream",
     "text": [
      "<class 'pandas.core.frame.DataFrame'>\n",
      "Int64Index: 1933 entries, 0 to 1932\n",
      "Data columns (total 35 columns):\n",
      " #   Column             Non-Null Count  Dtype  \n",
      "---  ------             --------------  -----  \n",
      " 0   movie_id           1933 non-null   object \n",
      " 1   averagerating      1933 non-null   float64\n",
      " 2   numvotes           1933 non-null   int64  \n",
      " 3   primary_title      1933 non-null   object \n",
      " 4   original_title     1933 non-null   object \n",
      " 5   start_year         1933 non-null   int64  \n",
      " 6   runtime_minutes    1932 non-null   float64\n",
      " 7   genres             1933 non-null   object \n",
      " 8   id                 1933 non-null   int64  \n",
      " 9   release_date       1933 non-null   object \n",
      " 10  movie              1933 non-null   object \n",
      " 11  production_budget  1933 non-null   int32  \n",
      " 12  domestic_gross     1933 non-null   object \n",
      " 13  worldwide_gross    1933 non-null   float64\n",
      " 14  Profit             1933 non-null   float64\n",
      " 15  Adventure          1933 non-null   bool   \n",
      " 16  Comedy             1933 non-null   bool   \n",
      " 17  Family             1933 non-null   bool   \n",
      " 18  Crime              1933 non-null   bool   \n",
      " 19  Thriller           1933 non-null   bool   \n",
      " 20  Sport              1933 non-null   bool   \n",
      " 21  Animation          1933 non-null   bool   \n",
      " 22  Horror             1933 non-null   bool   \n",
      " 23  Fantasy            1933 non-null   bool   \n",
      " 24  Romance            1933 non-null   bool   \n",
      " 25  Sci-Fi             1933 non-null   bool   \n",
      " 26  Documentary        1933 non-null   bool   \n",
      " 27  History            1933 non-null   bool   \n",
      " 28  Music              1933 non-null   bool   \n",
      " 29  Mystery            1933 non-null   bool   \n",
      " 30  Drama              1933 non-null   bool   \n",
      " 31  War                1933 non-null   bool   \n",
      " 32  Biography          1933 non-null   bool   \n",
      " 33  Musical            1933 non-null   bool   \n",
      " 34  Action             1933 non-null   bool   \n",
      "dtypes: bool(20), float64(4), int32(1), int64(3), object(7)\n",
      "memory usage: 271.8+ KB\n"
     ]
    }
   ],
   "source": [
    "mega_df.info()"
   ]
  },
  {
   "cell_type": "code",
   "execution_count": null,
   "id": "4cbc86e6",
   "metadata": {},
   "outputs": [],
   "source": []
  }
 ],
 "metadata": {
  "kernelspec": {
   "display_name": "Python 3 (ipykernel)",
   "language": "python",
   "name": "python3"
  },
  "language_info": {
   "codemirror_mode": {
    "name": "ipython",
    "version": 3
   },
   "file_extension": ".py",
   "mimetype": "text/x-python",
   "name": "python",
   "nbconvert_exporter": "python",
   "pygments_lexer": "ipython3",
   "version": "3.11.3"
  }
 },
 "nbformat": 4,
 "nbformat_minor": 5
}
